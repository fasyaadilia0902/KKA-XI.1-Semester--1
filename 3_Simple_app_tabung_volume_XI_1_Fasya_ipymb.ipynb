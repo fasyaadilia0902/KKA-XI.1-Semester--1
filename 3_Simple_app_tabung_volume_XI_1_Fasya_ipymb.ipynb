{
  "nbformat": 4,
  "nbformat_minor": 0,
  "metadata": {
    "colab": {
      "provenance": [],
      "authorship_tag": "ABX9TyMNKT0Zr57Dpg/visJkiZ0V",
      "include_colab_link": true
    },
    "kernelspec": {
      "name": "python3",
      "display_name": "Python 3"
    },
    "language_info": {
      "name": "python"
    }
  },
  "cells": [
    {
      "cell_type": "markdown",
      "metadata": {
        "id": "view-in-github",
        "colab_type": "text"
      },
      "source": [
        "<a href=\"https://colab.research.google.com/github/fasyaadilia0902/KKA-XI.1-Semester--1/blob/main/3_Simple_app_tabung_volume_XI_1_Fasya_ipymb.ipynb\" target=\"_parent\"><img src=\"https://colab.research.google.com/assets/colab-badge.svg\" alt=\"Open In Colab\"/></a>"
      ]
    },
    {
      "cell_type": "markdown",
      "source": [
        "Nama : Fasya Adilia Halwah\n",
        "Kelas : XI-1\n",
        "No.absen : 10\n",
        "Nama Kelompok: coldplay"
      ],
      "metadata": {
        "id": "zre7p1szgHsS"
      }
    },
    {
      "cell_type": "code",
      "execution_count": null,
      "metadata": {
        "id": "acarkHyodOue",
        "colab": {
          "base_uri": "https://localhost:8080/"
        },
        "outputId": "944898dc-71db-425c-ce59-dade8f4b9985"
      },
      "outputs": [
        {
          "output_type": "stream",
          "name": "stdout",
          "text": [
            "silahkan masukkan jari jari tabung: 10\n",
            "silahkan masukkan tinggi tabung: 20\n",
            "volume tabung adalah 6280.0 cm^3\n"
          ]
        }
      ],
      "source": [
        "jari_jari_tabung = float(input(\"silahkan masukkan jari jari tabung: \"))\n",
        "tinggi_tabung = float(input(\"silahkan masukkan tinggi tabung: \"))\n",
        "phi = 3.14\n",
        "\n",
        "volume_tabung = phi * jari_jari_tabung**2 *tinggi_tabung\n",
        "\n",
        "print(f\"volume tabung adalah {volume_tabung} cm^3\")"
      ]
    }
  ]
}